{
  "nbformat": 4,
  "nbformat_minor": 0,
  "metadata": {
    "colab": {
      "provenance": [],
      "authorship_tag": "ABX9TyOLCiVUzjv93djn2nMIuoih",
      "include_colab_link": true
    },
    "kernelspec": {
      "name": "python3",
      "display_name": "Python 3"
    },
    "language_info": {
      "name": "python"
    }
  },
  "cells": [
    {
      "cell_type": "markdown",
      "metadata": {
        "id": "view-in-github",
        "colab_type": "text"
      },
      "source": [
        "<a href=\"https://colab.research.google.com/github/ArmSanSut/ArmSanSut/blob/master/inarm_sansutnanont_assignment_2.ipynb\" target=\"_parent\"><img src=\"https://colab.research.google.com/assets/colab-badge.svg\" alt=\"Open In Colab\"/></a>"
      ]
    },
    {
      "cell_type": "code",
      "execution_count": 12,
      "metadata": {
        "colab": {
          "base_uri": "https://localhost:8080/",
          "height": 399
        },
        "id": "SdkhXto9tUpU",
        "outputId": "99cd1214-d0d5-4a02-942a-58c8e6b98560"
      },
      "outputs": [
        {
          "output_type": "display_data",
          "data": {
            "text/html": [
              "\n",
              "<style>\n",
              "  #altair-viz-eadf2dc7661c4da8953a384f8294f493.vega-embed {\n",
              "    width: 100%;\n",
              "    display: flex;\n",
              "  }\n",
              "\n",
              "  #altair-viz-eadf2dc7661c4da8953a384f8294f493.vega-embed details,\n",
              "  #altair-viz-eadf2dc7661c4da8953a384f8294f493.vega-embed details summary {\n",
              "    position: relative;\n",
              "  }\n",
              "</style>\n",
              "<div id=\"altair-viz-eadf2dc7661c4da8953a384f8294f493\"></div>\n",
              "<script type=\"text/javascript\">\n",
              "  var VEGA_DEBUG = (typeof VEGA_DEBUG == \"undefined\") ? {} : VEGA_DEBUG;\n",
              "  (function(spec, embedOpt){\n",
              "    let outputDiv = document.currentScript.previousElementSibling;\n",
              "    if (outputDiv.id !== \"altair-viz-eadf2dc7661c4da8953a384f8294f493\") {\n",
              "      outputDiv = document.getElementById(\"altair-viz-eadf2dc7661c4da8953a384f8294f493\");\n",
              "    }\n",
              "\n",
              "    const paths = {\n",
              "      \"vega\": \"https://cdn.jsdelivr.net/npm/vega@5?noext\",\n",
              "      \"vega-lib\": \"https://cdn.jsdelivr.net/npm/vega-lib?noext\",\n",
              "      \"vega-lite\": \"https://cdn.jsdelivr.net/npm/vega-lite@5.20.1?noext\",\n",
              "      \"vega-embed\": \"https://cdn.jsdelivr.net/npm/vega-embed@6?noext\",\n",
              "    };\n",
              "\n",
              "    function maybeLoadScript(lib, version) {\n",
              "      var key = `${lib.replace(\"-\", \"\")}_version`;\n",
              "      return (VEGA_DEBUG[key] == version) ?\n",
              "        Promise.resolve(paths[lib]) :\n",
              "        new Promise(function(resolve, reject) {\n",
              "          var s = document.createElement('script');\n",
              "          document.getElementsByTagName(\"head\")[0].appendChild(s);\n",
              "          s.async = true;\n",
              "          s.onload = () => {\n",
              "            VEGA_DEBUG[key] = version;\n",
              "            return resolve(paths[lib]);\n",
              "          };\n",
              "          s.onerror = () => reject(`Error loading script: ${paths[lib]}`);\n",
              "          s.src = paths[lib];\n",
              "        });\n",
              "    }\n",
              "\n",
              "    function showError(err) {\n",
              "      outputDiv.innerHTML = `<div class=\"error\" style=\"color:red;\">${err}</div>`;\n",
              "      throw err;\n",
              "    }\n",
              "\n",
              "    function displayChart(vegaEmbed) {\n",
              "      vegaEmbed(outputDiv, spec, embedOpt)\n",
              "        .catch(err => showError(`Javascript Error: ${err.message}<br>This usually means there's a typo in your chart specification. See the javascript console for the full traceback.`));\n",
              "    }\n",
              "\n",
              "    if(typeof define === \"function\" && define.amd) {\n",
              "      requirejs.config({paths});\n",
              "      let deps = [\"vega-embed\"];\n",
              "      require(deps, displayChart, err => showError(`Error loading script: ${err.message}`));\n",
              "    } else {\n",
              "      maybeLoadScript(\"vega\", \"5\")\n",
              "        .then(() => maybeLoadScript(\"vega-lite\", \"5.20.1\"))\n",
              "        .then(() => maybeLoadScript(\"vega-embed\", \"6\"))\n",
              "        .catch(showError)\n",
              "        .then(() => displayChart(vegaEmbed));\n",
              "    }\n",
              "  })({\"config\": {\"view\": {\"continuousWidth\": 300, \"continuousHeight\": 300}}, \"data\": {\"name\": \"data-72829f90f772c79750dcf9984641ba75\"}, \"mark\": {\"type\": \"line\", \"point\": true}, \"encoding\": {\"color\": {\"field\": \"name\", \"title\": \"Country\", \"type\": \"nominal\"}, \"tooltip\": [{\"field\": \"name\", \"title\": \"Country\", \"type\": \"nominal\"}, {\"field\": \"year\", \"title\": \"Year\", \"type\": \"ordinal\"}, {\"field\": \"gold\", \"title\": \"Gold Medals\", \"type\": \"quantitative\"}], \"x\": {\"axis\": {\"format\": \"d\"}, \"field\": \"year\", \"title\": \"Year\", \"type\": \"ordinal\"}, \"y\": {\"field\": \"gold\", \"title\": \"Number of Golden Medal\", \"type\": \"quantitative\"}}, \"params\": [{\"name\": \"param_10\", \"select\": {\"type\": \"interval\", \"encodings\": [\"x\", \"y\"]}, \"bind\": \"scales\"}], \"title\": \"Statistics of Gold Medals Won Over Time\", \"$schema\": \"https://vega.github.io/schema/vega-lite/v5.20.1.json\", \"datasets\": {\"data-72829f90f772c79750dcf9984641ba75\": [{\"year\": 1959, \"name\": \"Thailand\", \"gold\": 35, \"host\": \"y\"}, {\"year\": 1959, \"name\": \"Myanmar\", \"gold\": 11, \"host\": \"n\"}, {\"year\": 1959, \"name\": \"Malaysia\", \"gold\": 8, \"host\": \"n\"}, {\"year\": 1959, \"name\": \"Singapore\", \"gold\": 8, \"host\": \"n\"}, {\"year\": 1959, \"name\": \"Vietnam\", \"gold\": 5, \"host\": \"n\"}, {\"year\": 1959, \"name\": \"Laos\", \"gold\": 0, \"host\": \"n\"}, {\"year\": 1961, \"name\": \"Thailand\", \"gold\": 21, \"host\": \"n\"}, {\"year\": 1961, \"name\": \"Myanmar\", \"gold\": 35, \"host\": \"y\"}, {\"year\": 1961, \"name\": \"Malaysia\", \"gold\": 16, \"host\": \"n\"}, {\"year\": 1961, \"name\": \"Singapore\", \"gold\": 4, \"host\": \"n\"}, {\"year\": 1961, \"name\": \"Vietnam\", \"gold\": 9, \"host\": \"n\"}, {\"year\": 1961, \"name\": \"Cambodia\", \"gold\": 1, \"host\": \"n\"}, {\"year\": 1961, \"name\": \"Laos\", \"gold\": 0, \"host\": \"n\"}, {\"year\": 1965, \"name\": \"Thailand\", \"gold\": 38, \"host\": \"n\"}, {\"year\": 1965, \"name\": \"Myanmar\", \"gold\": 18, \"host\": \"n\"}, {\"year\": 1965, \"name\": \"Malaysia\", \"gold\": 33, \"host\": \"y\"}, {\"year\": 1965, \"name\": \"Singapore\", \"gold\": 26, \"host\": \"n\"}, {\"year\": 1965, \"name\": \"Vietnam\", \"gold\": 5, \"host\": \"n\"}, {\"year\": 1965, \"name\": \"Cambodia\", \"gold\": 15, \"host\": \"n\"}, {\"year\": 1965, \"name\": \"Laos\", \"gold\": 0, \"host\": \"n\"}, {\"year\": 1967, \"name\": \"Thailand\", \"gold\": 77, \"host\": \"y\"}, {\"year\": 1967, \"name\": \"Myanmar\", \"gold\": 11, \"host\": \"n\"}, {\"year\": 1967, \"name\": \"Malaysia\", \"gold\": 23, \"host\": \"n\"}, {\"year\": 1967, \"name\": \"Singapore\", \"gold\": 28, \"host\": \"n\"}, {\"year\": 1967, \"name\": \"Vietnam\", \"gold\": 6, \"host\": \"n\"}, {\"year\": 1967, \"name\": \"Laos\", \"gold\": 0, \"host\": \"n\"}, {\"year\": 1969, \"name\": \"Thailand\", \"gold\": 32, \"host\": \"n\"}, {\"year\": 1969, \"name\": \"Myanmar\", \"gold\": 57, \"host\": \"y\"}, {\"year\": 1969, \"name\": \"Malaysia\", \"gold\": 16, \"host\": \"n\"}, {\"year\": 1969, \"name\": \"Singapore\", \"gold\": 31, \"host\": \"n\"}, {\"year\": 1969, \"name\": \"Vietnam\", \"gold\": 9, \"host\": \"n\"}, {\"year\": 1969, \"name\": \"Laos\", \"gold\": 0, \"host\": \"n\"}, {\"year\": 1971, \"name\": \"Thailand\", \"gold\": 44, \"host\": \"n\"}, {\"year\": 1971, \"name\": \"Myanmar\", \"gold\": 20, \"host\": \"n\"}, {\"year\": 1971, \"name\": \"Malaysia\", \"gold\": 41, \"host\": \"y\"}, {\"year\": 1971, \"name\": \"Singapore\", \"gold\": 32, \"host\": \"n\"}, {\"year\": 1971, \"name\": \"Cambodia\", \"gold\": 17, \"host\": \"n\"}, {\"year\": 1971, \"name\": \"Vietnam\", \"gold\": 3, \"host\": \"n\"}, {\"year\": 1971, \"name\": \"Laos\", \"gold\": 0, \"host\": \"n\"}, {\"year\": 1973, \"name\": \"Thailand\", \"gold\": 47, \"host\": \"n\"}, {\"year\": 1973, \"name\": \"Myanmar\", \"gold\": 28, \"host\": \"n\"}, {\"year\": 1973, \"name\": \"Malaysia\", \"gold\": 30, \"host\": \"n\"}, {\"year\": 1973, \"name\": \"Singapore\", \"gold\": 45, \"host\": \"y\"}, {\"year\": 1973, \"name\": \"Cambodia\", \"gold\": 9, \"host\": \"n\"}, {\"year\": 1973, \"name\": \"Vietnam\", \"gold\": 2, \"host\": \"n\"}, {\"year\": 1973, \"name\": \"Laos\", \"gold\": 0, \"host\": \"n\"}, {\"year\": 1975, \"name\": \"Thailand\", \"gold\": 80, \"host\": \"y\"}, {\"year\": 1975, \"name\": \"Myanmar\", \"gold\": 28, \"host\": \"n\"}, {\"year\": 1975, \"name\": \"Malaysia\", \"gold\": 16, \"host\": \"n\"}, {\"year\": 1975, \"name\": \"Singapore\", \"gold\": 38, \"host\": \"n\"}, {\"year\": 1977, \"name\": \"Malaysia\", \"gold\": 21, \"host\": \"y\"}, {\"year\": 1977, \"name\": \"Thailand\", \"gold\": 37, \"host\": \"n\"}, {\"year\": 1977, \"name\": \"Singapore\", \"gold\": 14, \"host\": \"n\"}, {\"year\": 1977, \"name\": \"Indonesia\", \"gold\": 62, \"host\": \"n\"}, {\"year\": 1977, \"name\": \"Philippines\", \"gold\": 31, \"host\": \"n\"}, {\"year\": 1977, \"name\": \"Myanmar\", \"gold\": 25, \"host\": \"n\"}, {\"year\": 1977, \"name\": \"Brunei\", \"gold\": 0, \"host\": \"n\"}, {\"year\": 1979, \"name\": \"Malaysia\", \"gold\": 19, \"host\": \"n\"}, {\"year\": 1979, \"name\": \"Thailand\", \"gold\": 50, \"host\": \"n\"}, {\"year\": 1979, \"name\": \"Singapore\", \"gold\": 16, \"host\": \"n\"}, {\"year\": 1979, \"name\": \"Indonesia\", \"gold\": 92, \"host\": \"y\"}, {\"year\": 1979, \"name\": \"Philippines\", \"gold\": 24, \"host\": \"n\"}, {\"year\": 1979, \"name\": \"Myanmar\", \"gold\": 26, \"host\": \"n\"}, {\"year\": 1979, \"name\": \"Brunei\", \"gold\": 0, \"host\": \"n\"}, {\"year\": 1981, \"name\": \"Malaysia\", \"gold\": 16, \"host\": \"n\"}, {\"year\": 1981, \"name\": \"Thailand\", \"gold\": 62, \"host\": \"n\"}, {\"year\": 1981, \"name\": \"Singapore\", \"gold\": 12, \"host\": \"n\"}, {\"year\": 1981, \"name\": \"Indonesia\", \"gold\": 85, \"host\": \"n\"}, {\"year\": 1981, \"name\": \"Philippines\", \"gold\": 55, \"host\": \"y\"}, {\"year\": 1981, \"name\": \"Myanmar\", \"gold\": 15, \"host\": \"n\"}, {\"year\": 1981, \"name\": \"Brunei\", \"gold\": 0, \"host\": \"n\"}, {\"year\": 1983, \"name\": \"Malaysia\", \"gold\": 16, \"host\": \"n\"}, {\"year\": 1983, \"name\": \"Philippines\", \"gold\": 49, \"host\": \"n\"}, {\"year\": 1983, \"name\": \"Thailand\", \"gold\": 49, \"host\": \"n\"}, {\"year\": 1983, \"name\": \"Singapore\", \"gold\": 38, \"host\": \"y\"}, {\"year\": 1983, \"name\": \"Indonesia\", \"gold\": 64, \"host\": \"n\"}, {\"year\": 1983, \"name\": \"Myanmar\", \"gold\": 18, \"host\": \"n\"}, {\"year\": 1983, \"name\": \"Brunei\", \"gold\": 0, \"host\": \"n\"}, {\"year\": 1983, \"name\": \"Cambodia\", \"gold\": 0, \"host\": \"n\"}, {\"year\": 1985, \"name\": \"Malaysia\", \"gold\": 26, \"host\": \"n\"}, {\"year\": 1985, \"name\": \"Philippines\", \"gold\": 43, \"host\": \"n\"}, {\"year\": 1985, \"name\": \"Thailand\", \"gold\": 92, \"host\": \"y\"}, {\"year\": 1985, \"name\": \"Singapore\", \"gold\": 16, \"host\": \"n\"}, {\"year\": 1985, \"name\": \"Indonesia\", \"gold\": 62, \"host\": \"n\"}, {\"year\": 1985, \"name\": \"Myanmar\", \"gold\": 13, \"host\": \"n\"}, {\"year\": 1985, \"name\": \"Brunei\", \"gold\": 0, \"host\": \"n\"}, {\"year\": 1985, \"name\": \"Cambodia\", \"gold\": 0, \"host\": \"n\"}, {\"year\": 1987, \"name\": \"Malaysia\", \"gold\": 35, \"host\": \"n\"}, {\"year\": 1987, \"name\": \"Philippines\", \"gold\": 59, \"host\": \"n\"}, {\"year\": 1987, \"name\": \"Thailand\", \"gold\": 63, \"host\": \"n\"}, {\"year\": 1987, \"name\": \"Singapore\", \"gold\": 19, \"host\": \"n\"}, {\"year\": 1987, \"name\": \"Indonesia\", \"gold\": 183, \"host\": \"y\"}, {\"year\": 1987, \"name\": \"Myanmar\", \"gold\": 13, \"host\": \"n\"}, {\"year\": 1987, \"name\": \"Brunei\", \"gold\": 1, \"host\": \"n\"}, {\"year\": 1987, \"name\": \"Cambodia\", \"gold\": 0, \"host\": \"n\"}, {\"year\": 1989, \"name\": \"Indonesia\", \"gold\": 102, \"host\": \"n\"}, {\"year\": 1989, \"name\": \"Malaysia\", \"gold\": 67, \"host\": \"y\"}, {\"year\": 1989, \"name\": \"Thailand\", \"gold\": 62, \"host\": \"n\"}, {\"year\": 1989, \"name\": \"Singapore\", \"gold\": 32, \"host\": \"n\"}, {\"year\": 1989, \"name\": \"Philippines\", \"gold\": 26, \"host\": \"n\"}, {\"year\": 1989, \"name\": \"Myanmar\", \"gold\": 10, \"host\": \"n\"}, {\"year\": 1989, \"name\": \"Vietnam\", \"gold\": 3, \"host\": \"n\"}, {\"year\": 1989, \"name\": \"Brunei\", \"gold\": 1, \"host\": \"n\"}, {\"year\": 1989, \"name\": \"Laos\", \"gold\": 0, \"host\": \"n\"}, {\"year\": 1991, \"name\": \"Indonesia\", \"gold\": 92, \"host\": \"n\"}, {\"year\": 1991, \"name\": \"Malaysia\", \"gold\": 36, \"host\": \"n\"}, {\"year\": 1991, \"name\": \"Thailand\", \"gold\": 72, \"host\": \"n\"}, {\"year\": 1991, \"name\": \"Singapore\", \"gold\": 18, \"host\": \"n\"}, {\"year\": 1991, \"name\": \"Philippines\", \"gold\": 91, \"host\": \"y\"}, {\"year\": 1991, \"name\": \"Myanmar\", \"gold\": 12, \"host\": \"n\"}, {\"year\": 1991, \"name\": \"Vietnam\", \"gold\": 7, \"host\": \"n\"}, {\"year\": 1991, \"name\": \"Brunei\", \"gold\": 0, \"host\": \"n\"}, {\"year\": 1991, \"name\": \"Laos\", \"gold\": 0, \"host\": \"n\"}, {\"year\": 1993, \"name\": \"Indonesia\", \"gold\": 88, \"host\": \"n\"}, {\"year\": 1993, \"name\": \"Malaysia\", \"gold\": 43, \"host\": \"n\"}, {\"year\": 1993, \"name\": \"Thailand\", \"gold\": 63, \"host\": \"n\"}, {\"year\": 1993, \"name\": \"Singapore\", \"gold\": 50, \"host\": \"y\"}, {\"year\": 1993, \"name\": \"Philippines\", \"gold\": 57, \"host\": \"n\"}, {\"year\": 1993, \"name\": \"Myanmar\", \"gold\": 8, \"host\": \"n\"}, {\"year\": 1993, \"name\": \"Vietnam\", \"gold\": 9, \"host\": \"n\"}, {\"year\": 1993, \"name\": \"Brunei\", \"gold\": 1, \"host\": \"n\"}, {\"year\": 1993, \"name\": \"Laos\", \"gold\": 0, \"host\": \"n\"}, {\"year\": 1995, \"name\": \"Thailand\", \"gold\": 157, \"host\": \"y\"}, {\"year\": 1995, \"name\": \"Indonesia\", \"gold\": 77, \"host\": \"n\"}, {\"year\": 1995, \"name\": \"Philippines\", \"gold\": 33, \"host\": \"n\"}, {\"year\": 1995, \"name\": \"Malaysia\", \"gold\": 31, \"host\": \"n\"}, {\"year\": 1995, \"name\": \"Singapore\", \"gold\": 26, \"host\": \"n\"}, {\"year\": 1995, \"name\": \"Vietnam\", \"gold\": 10, \"host\": \"n\"}, {\"year\": 1995, \"name\": \"Myanmar\", \"gold\": 4, \"host\": \"n\"}, {\"year\": 1995, \"name\": \"Brunei\", \"gold\": 0, \"host\": \"n\"}, {\"year\": 1995, \"name\": \"Laos\", \"gold\": 0, \"host\": \"n\"}, {\"year\": 1995, \"name\": \"Cambodia\", \"gold\": 0, \"host\": \"n\"}, {\"year\": 1997, \"name\": \"Thailand\", \"gold\": 83, \"host\": \"n\"}, {\"year\": 1997, \"name\": \"Indonesia\", \"gold\": 194, \"host\": \"y\"}, {\"year\": 1997, \"name\": \"Philippines\", \"gold\": 43, \"host\": \"n\"}, {\"year\": 1997, \"name\": \"Malaysia\", \"gold\": 55, \"host\": \"n\"}, {\"year\": 1997, \"name\": \"Singapore\", \"gold\": 30, \"host\": \"n\"}, {\"year\": 1997, \"name\": \"Vietnam\", \"gold\": 35, \"host\": \"n\"}, {\"year\": 1997, \"name\": \"Myanmar\", \"gold\": 8, \"host\": \"n\"}, {\"year\": 1997, \"name\": \"Brunei\", \"gold\": 0, \"host\": \"n\"}, {\"year\": 1997, \"name\": \"Laos\", \"gold\": 0, \"host\": \"n\"}, {\"year\": 1997, \"name\": \"Cambodia\", \"gold\": 0, \"host\": \"n\"}, {\"year\": 1999, \"name\": \"Thailand\", \"gold\": 65, \"host\": \"n\"}, {\"year\": 1999, \"name\": \"Indonesia\", \"gold\": 44, \"host\": \"n\"}, {\"year\": 1999, \"name\": \"Philippines\", \"gold\": 19, \"host\": \"n\"}, {\"year\": 1999, \"name\": \"Malaysia\", \"gold\": 57, \"host\": \"n\"}, {\"year\": 1999, \"name\": \"Singapore\", \"gold\": 23, \"host\": \"n\"}, {\"year\": 1999, \"name\": \"Vietnam\", \"gold\": 17, \"host\": \"n\"}, {\"year\": 1999, \"name\": \"Myanmar\", \"gold\": 3, \"host\": \"n\"}, {\"year\": 1999, \"name\": \"Brunei\", \"gold\": 4, \"host\": \"y\"}, {\"year\": 1999, \"name\": \"Laos\", \"gold\": 1, \"host\": \"n\"}, {\"year\": 1999, \"name\": \"Cambodia\", \"gold\": 0, \"host\": \"n\"}, {\"year\": 2001, \"name\": \"Thailand\", \"gold\": 103, \"host\": \"n\"}, {\"year\": 2001, \"name\": \"Indonesia\", \"gold\": 72, \"host\": \"n\"}, {\"year\": 2001, \"name\": \"Philippines\", \"gold\": 30, \"host\": \"n\"}, {\"year\": 2001, \"name\": \"Malaysia\", \"gold\": 111, \"host\": \"y\"}, {\"year\": 2001, \"name\": \"Singapore\", \"gold\": 22, \"host\": \"n\"}, {\"year\": 2001, \"name\": \"Vietnam\", \"gold\": 33, \"host\": \"n\"}, {\"year\": 2001, \"name\": \"Myanmar\", \"gold\": 19, \"host\": \"n\"}, {\"year\": 2001, \"name\": \"Brunei\", \"gold\": 0, \"host\": \"n\"}, {\"year\": 2001, \"name\": \"Laos\", \"gold\": 1, \"host\": \"n\"}, {\"year\": 2001, \"name\": \"Cambodia\", \"gold\": 1, \"host\": \"n\"}, {\"year\": 2003, \"name\": \"Malaysia\", \"gold\": 44, \"host\": \"n\"}, {\"year\": 2003, \"name\": \"Thailand\", \"gold\": 90, \"host\": \"n\"}, {\"year\": 2003, \"name\": \"Vietnam\", \"gold\": 158, \"host\": \"y\"}, {\"year\": 2003, \"name\": \"Singapore\", \"gold\": 30, \"host\": \"n\"}, {\"year\": 2003, \"name\": \"Indonesia\", \"gold\": 55, \"host\": \"n\"}, {\"year\": 2003, \"name\": \"Philippines\", \"gold\": 48, \"host\": \"n\"}, {\"year\": 2003, \"name\": \"Myanmar\", \"gold\": 16, \"host\": \"n\"}, {\"year\": 2003, \"name\": \"Laos\", \"gold\": 1, \"host\": \"n\"}, {\"year\": 2003, \"name\": \"Cambodia\", \"gold\": 1, \"host\": \"n\"}, {\"year\": 2003, \"name\": \"Brunei\", \"gold\": 1, \"host\": \"n\"}, {\"year\": 2003, \"name\": \"Timor-Leste\", \"gold\": 0, \"host\": \"n\"}, {\"year\": 2005, \"name\": \"Malaysia\", \"gold\": 61, \"host\": \"n\"}, {\"year\": 2005, \"name\": \"Thailand\", \"gold\": 87, \"host\": \"n\"}, {\"year\": 2005, \"name\": \"Vietnam\", \"gold\": 71, \"host\": \"n\"}, {\"year\": 2005, \"name\": \"Singapore\", \"gold\": 42, \"host\": \"n\"}, {\"year\": 2005, \"name\": \"Indonesia\", \"gold\": 49, \"host\": \"n\"}, {\"year\": 2005, \"name\": \"Philippines\", \"gold\": 113, \"host\": \"y\"}, {\"year\": 2005, \"name\": \"Myanmar\", \"gold\": 17, \"host\": \"n\"}, {\"year\": 2005, \"name\": \"Laos\", \"gold\": 3, \"host\": \"n\"}, {\"year\": 2005, \"name\": \"Cambodia\", \"gold\": 0, \"host\": \"n\"}, {\"year\": 2005, \"name\": \"Brunei\", \"gold\": 1, \"host\": \"n\"}, {\"year\": 2005, \"name\": \"Timor-Leste\", \"gold\": 0, \"host\": \"n\"}, {\"year\": 2007, \"name\": \"Malaysia\", \"gold\": 68, \"host\": \"n\"}, {\"year\": 2007, \"name\": \"Thailand\", \"gold\": 183, \"host\": \"y\"}, {\"year\": 2007, \"name\": \"Vietnam\", \"gold\": 64, \"host\": \"n\"}, {\"year\": 2007, \"name\": \"Singapore\", \"gold\": 43, \"host\": \"n\"}, {\"year\": 2007, \"name\": \"Indonesia\", \"gold\": 56, \"host\": \"n\"}, {\"year\": 2007, \"name\": \"Philippines\", \"gold\": 41, \"host\": \"n\"}, {\"year\": 2007, \"name\": \"Myanmar\", \"gold\": 14, \"host\": \"n\"}, {\"year\": 2007, \"name\": \"Laos\", \"gold\": 5, \"host\": \"n\"}, {\"year\": 2007, \"name\": \"Cambodia\", \"gold\": 2, \"host\": \"n\"}, {\"year\": 2007, \"name\": \"Brunei\", \"gold\": 1, \"host\": \"n\"}, {\"year\": 2007, \"name\": \"Timor-Leste\", \"gold\": 0, \"host\": \"n\"}, {\"year\": 2009, \"name\": \"Malaysia\", \"gold\": 40, \"host\": \"n\"}, {\"year\": 2009, \"name\": \"Thailand\", \"gold\": 86, \"host\": \"n\"}, {\"year\": 2009, \"name\": \"Vietnam\", \"gold\": 83, \"host\": \"n\"}, {\"year\": 2009, \"name\": \"Singapore\", \"gold\": 33, \"host\": \"n\"}, {\"year\": 2009, \"name\": \"Indonesia\", \"gold\": 43, \"host\": \"n\"}, {\"year\": 2009, \"name\": \"Philippines\", \"gold\": 38, \"host\": \"n\"}, {\"year\": 2009, \"name\": \"Myanmar\", \"gold\": 12, \"host\": \"n\"}, {\"year\": 2009, \"name\": \"Laos\", \"gold\": 33, \"host\": \"y\"}, {\"year\": 2009, \"name\": \"Cambodia\", \"gold\": 3, \"host\": \"n\"}, {\"year\": 2009, \"name\": \"Brunei\", \"gold\": 1, \"host\": \"n\"}, {\"year\": 2009, \"name\": \"Timor-Leste\", \"gold\": 0, \"host\": \"n\"}, {\"year\": 2011, \"name\": \"Malaysia\", \"gold\": 58, \"host\": \"n\"}, {\"year\": 2011, \"name\": \"Thailand\", \"gold\": 109, \"host\": \"n\"}, {\"year\": 2011, \"name\": \"Vietnam\", \"gold\": 96, \"host\": \"n\"}, {\"year\": 2011, \"name\": \"Singapore\", \"gold\": 42, \"host\": \"n\"}, {\"year\": 2011, \"name\": \"Indonesia\", \"gold\": 182, \"host\": \"y\"}, {\"year\": 2011, \"name\": \"Philippines\", \"gold\": 37, \"host\": \"n\"}, {\"year\": 2011, \"name\": \"Myanmar\", \"gold\": 16, \"host\": \"n\"}, {\"year\": 2011, \"name\": \"Cambodia\", \"gold\": 4, \"host\": \"n\"}, {\"year\": 2011, \"name\": \"Laos\", \"gold\": 9, \"host\": \"n\"}, {\"year\": 2011, \"name\": \"Brunei\", \"gold\": 0, \"host\": \"n\"}, {\"year\": 2011, \"name\": \"Timor-Leste\", \"gold\": 1, \"host\": \"n\"}, {\"year\": 2013, \"name\": \"Malaysia\", \"gold\": 43, \"host\": \"n\"}, {\"year\": 2013, \"name\": \"Thailand\", \"gold\": 107, \"host\": \"n\"}, {\"year\": 2013, \"name\": \"Vietnam\", \"gold\": 73, \"host\": \"n\"}, {\"year\": 2013, \"name\": \"Singapore\", \"gold\": 34, \"host\": \"n\"}, {\"year\": 2013, \"name\": \"Indonesia\", \"gold\": 65, \"host\": \"n\"}, {\"year\": 2013, \"name\": \"Philippines\", \"gold\": 29, \"host\": \"n\"}, {\"year\": 2013, \"name\": \"Myanmar\", \"gold\": 86, \"host\": \"y\"}, {\"year\": 2013, \"name\": \"Cambodia\", \"gold\": 8, \"host\": \"n\"}, {\"year\": 2013, \"name\": \"Laos\", \"gold\": 13, \"host\": \"n\"}, {\"year\": 2013, \"name\": \"Brunei\", \"gold\": 1, \"host\": \"n\"}, {\"year\": 2013, \"name\": \"Timor-Leste\", \"gold\": 2, \"host\": \"n\"}, {\"year\": 2015, \"name\": \"Malaysia\", \"gold\": 62, \"host\": \"n\"}, {\"year\": 2015, \"name\": \"Thailand\", \"gold\": 95, \"host\": \"n\"}, {\"year\": 2015, \"name\": \"Vietnam\", \"gold\": 73, \"host\": \"n\"}, {\"year\": 2015, \"name\": \"Singapore\", \"gold\": 84, \"host\": \"y\"}, {\"year\": 2015, \"name\": \"Indonesia\", \"gold\": 47, \"host\": \"n\"}, {\"year\": 2015, \"name\": \"Philippines\", \"gold\": 29, \"host\": \"n\"}, {\"year\": 2015, \"name\": \"Myanmar\", \"gold\": 12, \"host\": \"n\"}, {\"year\": 2015, \"name\": \"Cambodia\", \"gold\": 1, \"host\": \"n\"}, {\"year\": 2015, \"name\": \"Laos\", \"gold\": 0, \"host\": \"n\"}, {\"year\": 2015, \"name\": \"Brunei\", \"gold\": 0, \"host\": \"n\"}, {\"year\": 2015, \"name\": \"Timor-Leste\", \"gold\": 0, \"host\": \"n\"}, {\"year\": 2017, \"name\": \"Malaysia\", \"gold\": 145, \"host\": \"y\"}, {\"year\": 2017, \"name\": \"Thailand\", \"gold\": 72, \"host\": \"n\"}, {\"year\": 2017, \"name\": \"Vietnam\", \"gold\": 58, \"host\": \"n\"}, {\"year\": 2017, \"name\": \"Singapore\", \"gold\": 57, \"host\": \"n\"}, {\"year\": 2017, \"name\": \"Indonesia\", \"gold\": 38, \"host\": \"n\"}, {\"year\": 2017, \"name\": \"Philippines\", \"gold\": 24, \"host\": \"n\"}, {\"year\": 2017, \"name\": \"Myanmar\", \"gold\": 7, \"host\": \"n\"}, {\"year\": 2017, \"name\": \"Cambodia\", \"gold\": 3, \"host\": \"n\"}, {\"year\": 2017, \"name\": \"Laos\", \"gold\": 2, \"host\": \"n\"}, {\"year\": 2017, \"name\": \"Brunei\", \"gold\": 0, \"host\": \"n\"}, {\"year\": 2017, \"name\": \"Timor-Leste\", \"gold\": 0, \"host\": \"n\"}, {\"year\": 2019, \"name\": \"Philippines\", \"gold\": 149, \"host\": \"y\"}, {\"year\": 2019, \"name\": \"Vietnam\", \"gold\": 98, \"host\": \"n\"}, {\"year\": 2019, \"name\": \"Thailand\", \"gold\": 92, \"host\": \"n\"}, {\"year\": 2019, \"name\": \"Indonesia\", \"gold\": 72, \"host\": \"n\"}, {\"year\": 2019, \"name\": \"Malaysia\", \"gold\": 55, \"host\": \"n\"}, {\"year\": 2019, \"name\": \"Singapore\", \"gold\": 53, \"host\": \"n\"}, {\"year\": 2019, \"name\": \"Myanmar\", \"gold\": 4, \"host\": \"n\"}, {\"year\": 2019, \"name\": \"Cambodia\", \"gold\": 4, \"host\": \"n\"}, {\"year\": 2019, \"name\": \"Brunei\", \"gold\": 2, \"host\": \"n\"}, {\"year\": 2019, \"name\": \"Laos\", \"gold\": 1, \"host\": \"n\"}, {\"year\": 2019, \"name\": \"Timor-Leste\", \"gold\": 0, \"host\": \"n\"}, {\"year\": 2021, \"name\": \"Vietnam\", \"gold\": 205, \"host\": \"y\"}, {\"year\": 2021, \"name\": \"Thailand\", \"gold\": 92, \"host\": \"n\"}, {\"year\": 2021, \"name\": \"Indonesia\", \"gold\": 69, \"host\": \"n\"}, {\"year\": 2021, \"name\": \"Philippines\", \"gold\": 52, \"host\": \"n\"}, {\"year\": 2021, \"name\": \"Singapore\", \"gold\": 47, \"host\": \"n\"}, {\"year\": 2021, \"name\": \"Malaysia\", \"gold\": 39, \"host\": \"n\"}, {\"year\": 2021, \"name\": \"Myanmar\", \"gold\": 9, \"host\": \"n\"}, {\"year\": 2021, \"name\": \"Cambodia\", \"gold\": 9, \"host\": \"n\"}, {\"year\": 2021, \"name\": \"Laos\", \"gold\": 2, \"host\": \"n\"}, {\"year\": 2021, \"name\": \"Brunei\", \"gold\": 1, \"host\": \"n\"}, {\"year\": 2021, \"name\": \"Timor-Leste\", \"gold\": 0, \"host\": \"n\"}, {\"year\": 2023, \"name\": \"Vietnam\", \"gold\": 136, \"host\": \"n\"}, {\"year\": 2023, \"name\": \"Thailand\", \"gold\": 108, \"host\": \"n\"}, {\"year\": 2023, \"name\": \"Indonesia\", \"gold\": 87, \"host\": \"n\"}, {\"year\": 2023, \"name\": \"Cambodia\", \"gold\": 81, \"host\": \"y\"}, {\"year\": 2023, \"name\": \"Philippines\", \"gold\": 58, \"host\": \"n\"}, {\"year\": 2023, \"name\": \"Singapore\", \"gold\": 51, \"host\": \"n\"}, {\"year\": 2023, \"name\": \"Malaysia\", \"gold\": 34, \"host\": \"n\"}, {\"year\": 2023, \"name\": \"Myanmar\", \"gold\": 21, \"host\": \"n\"}, {\"year\": 2023, \"name\": \"Laos\", \"gold\": 6, \"host\": \"n\"}, {\"year\": 2023, \"name\": \"Brunei\", \"gold\": 2, \"host\": \"n\"}, {\"year\": 2023, \"name\": \"Timor-Leste\", \"gold\": 0, \"host\": \"n\"}]}}, {\"mode\": \"vega-lite\"});\n",
              "</script>"
            ],
            "text/plain": [
              "alt.Chart(...)"
            ]
          },
          "metadata": {}
        }
      ],
      "source": [
        "import pandas as pd\n",
        "import altair as alt\n",
        "\n",
        "alt.renderers.enable('colab')\n",
        "\n",
        "# read data from .csv file\n",
        "url = \"https://gist.githubusercontent.com/puripant/857f1981667e8b42da2c72328ba94ead/raw/5eaa80f920849c53c0c3066bc2755bc53b1c3973/medals.csv\"\n",
        "data = pd.read_csv(url)\n",
        "\n",
        "#convert string -> int\n",
        "data['year'] = data['year'].astype(int)\n",
        "\n",
        "chart = alt.Chart(data).mark_line(point=True).encode(\n",
        "    x = alt.X('year:O', title = 'Year', axis = alt.Axis(format = 'd')),\n",
        "    y = alt.Y('gold:Q', title = 'Number of Golden Medal'),\n",
        "    color = alt.Color('name:N', title='Country'),\n",
        "    tooltip = [\n",
        "        alt.Tooltip('name:N', title = 'Country'),\n",
        "        alt.Tooltip('year:O', title = 'Year'),\n",
        "        alt.Tooltip('gold:Q', title = 'Gold Medals')\n",
        "    ]\n",
        ").properties(\n",
        "    title = 'Statistics of Gold Medals Won Over Time'\n",
        ").interactive()\n",
        "\n",
        "chart.show()\n"
      ]
    }
  ]
}